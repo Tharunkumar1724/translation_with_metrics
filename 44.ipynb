{
 "cells": [
  {
   "cell_type": "code",
   "execution_count": 3,
   "id": "0c8d5060-5016-4940-8d26-b31ac1cbe219",
   "metadata": {},
   "outputs": [
    {
     "name": "stdout",
     "output_type": "stream",
     "text": [
      "WARNING:tensorflow:From C:\\Users\\HAI\\AppData\\Local\\Programs\\Python\\Python313\\Lib\\site-packages\\tf_keras\\src\\losses.py:2976: The name tf.losses.sparse_softmax_cross_entropy is deprecated. Please use tf.compat.v1.losses.sparse_softmax_cross_entropy instead.\n",
      "\n"
     ]
    },
    {
     "data": {
      "application/vnd.jupyter.widget-view+json": {
       "model_id": "cb2fd41ba3c442aa8f9652202f99654f",
       "version_major": 2,
       "version_minor": 0
      },
      "text/plain": [
       "modules.json:   0%|          | 0.00/461 [00:00<?, ?B/s]"
      ]
     },
     "metadata": {},
     "output_type": "display_data"
    },
    {
     "name": "stderr",
     "output_type": "stream",
     "text": [
      "C:\\Users\\HAI\\AppData\\Local\\Programs\\Python\\Python313\\Lib\\site-packages\\huggingface_hub\\file_download.py:143: UserWarning: `huggingface_hub` cache-system uses symlinks by default to efficiently store duplicated files but your machine does not support them in C:\\Users\\HAI\\.cache\\huggingface\\hub\\models--sentence-transformers--LaBSE. Caching files will still work but in a degraded version that might require more space on your disk. This warning can be disabled by setting the `HF_HUB_DISABLE_SYMLINKS_WARNING` environment variable. For more details, see https://huggingface.co/docs/huggingface_hub/how-to-cache#limitations.\n",
      "To support symlinks on Windows, you either need to activate Developer Mode or to run Python as an administrator. In order to activate developer mode, see this article: https://docs.microsoft.com/en-us/windows/apps/get-started/enable-your-device-for-development\n",
      "  warnings.warn(message)\n"
     ]
    },
    {
     "data": {
      "application/vnd.jupyter.widget-view+json": {
       "model_id": "b36ab9d02fd4472b8e416eb38f8b678a",
       "version_major": 2,
       "version_minor": 0
      },
      "text/plain": [
       "config_sentence_transformers.json:   0%|          | 0.00/122 [00:00<?, ?B/s]"
      ]
     },
     "metadata": {},
     "output_type": "display_data"
    },
    {
     "data": {
      "application/vnd.jupyter.widget-view+json": {
       "model_id": "2d9eb20d46b3480592dc1971e07050ab",
       "version_major": 2,
       "version_minor": 0
      },
      "text/plain": [
       "README.md: 0.00B [00:00, ?B/s]"
      ]
     },
     "metadata": {},
     "output_type": "display_data"
    },
    {
     "data": {
      "application/vnd.jupyter.widget-view+json": {
       "model_id": "8312150681ab4cb2b078961ff65f8494",
       "version_major": 2,
       "version_minor": 0
      },
      "text/plain": [
       "sentence_bert_config.json:   0%|          | 0.00/53.0 [00:00<?, ?B/s]"
      ]
     },
     "metadata": {},
     "output_type": "display_data"
    },
    {
     "data": {
      "application/vnd.jupyter.widget-view+json": {
       "model_id": "e3ffa00964f641cdbd8821d9128d4802",
       "version_major": 2,
       "version_minor": 0
      },
      "text/plain": [
       "config.json:   0%|          | 0.00/804 [00:00<?, ?B/s]"
      ]
     },
     "metadata": {},
     "output_type": "display_data"
    },
    {
     "name": "stderr",
     "output_type": "stream",
     "text": [
      "Xet Storage is enabled for this repo, but the 'hf_xet' package is not installed. Falling back to regular HTTP download. For better performance, install the package with: `pip install huggingface_hub[hf_xet]` or `pip install hf_xet`\n"
     ]
    },
    {
     "data": {
      "application/vnd.jupyter.widget-view+json": {
       "model_id": "019ee2d9dce346e38828b0a02de44106",
       "version_major": 2,
       "version_minor": 0
      },
      "text/plain": [
       "model.safetensors:   0%|          | 0.00/1.88G [00:00<?, ?B/s]"
      ]
     },
     "metadata": {},
     "output_type": "display_data"
    },
    {
     "data": {
      "application/vnd.jupyter.widget-view+json": {
       "model_id": "8e43750e21144ff6b5675b89417fd6a1",
       "version_major": 2,
       "version_minor": 0
      },
      "text/plain": [
       "tokenizer_config.json:   0%|          | 0.00/397 [00:00<?, ?B/s]"
      ]
     },
     "metadata": {},
     "output_type": "display_data"
    },
    {
     "data": {
      "application/vnd.jupyter.widget-view+json": {
       "model_id": "9aa5d15f83504d03ba730b48f8784f12",
       "version_major": 2,
       "version_minor": 0
      },
      "text/plain": [
       "vocab.txt: 0.00B [00:00, ?B/s]"
      ]
     },
     "metadata": {},
     "output_type": "display_data"
    },
    {
     "data": {
      "application/vnd.jupyter.widget-view+json": {
       "model_id": "1cc48b45cede467d88537e40c6a247c0",
       "version_major": 2,
       "version_minor": 0
      },
      "text/plain": [
       "tokenizer.json: 0.00B [00:00, ?B/s]"
      ]
     },
     "metadata": {},
     "output_type": "display_data"
    },
    {
     "data": {
      "application/vnd.jupyter.widget-view+json": {
       "model_id": "80442052e9ec42a98b4023169458d09b",
       "version_major": 2,
       "version_minor": 0
      },
      "text/plain": [
       "special_tokens_map.json:   0%|          | 0.00/112 [00:00<?, ?B/s]"
      ]
     },
     "metadata": {},
     "output_type": "display_data"
    },
    {
     "data": {
      "application/vnd.jupyter.widget-view+json": {
       "model_id": "9de6027e0a4d44a3bf389383e111438a",
       "version_major": 2,
       "version_minor": 0
      },
      "text/plain": [
       "config.json:   0%|          | 0.00/190 [00:00<?, ?B/s]"
      ]
     },
     "metadata": {},
     "output_type": "display_data"
    },
    {
     "data": {
      "application/vnd.jupyter.widget-view+json": {
       "model_id": "93652a0d6b7049deb0df11493194ee27",
       "version_major": 2,
       "version_minor": 0
      },
      "text/plain": [
       "config.json:   0%|          | 0.00/114 [00:00<?, ?B/s]"
      ]
     },
     "metadata": {},
     "output_type": "display_data"
    },
    {
     "name": "stderr",
     "output_type": "stream",
     "text": [
      "Xet Storage is enabled for this repo, but the 'hf_xet' package is not installed. Falling back to regular HTTP download. For better performance, install the package with: `pip install huggingface_hub[hf_xet]` or `pip install hf_xet`\n"
     ]
    },
    {
     "data": {
      "application/vnd.jupyter.widget-view+json": {
       "model_id": "d1aae913a2df4f7a8eb3f964d7a6bfc9",
       "version_major": 2,
       "version_minor": 0
      },
      "text/plain": [
       "model.safetensors:   0%|          | 0.00/2.36M [00:00<?, ?B/s]"
      ]
     },
     "metadata": {},
     "output_type": "display_data"
    },
    {
     "name": "stdout",
     "output_type": "stream",
     "text": [
      "Done! See output_telugu.txt\n"
     ]
    }
   ],
   "source": [
    "# pip install deep-translator sentence-transformers torch\n",
    "from deep_translator import GoogleTranslator\n",
    "from sentence_transformers import SentenceTransformer, util\n",
    "import time\n",
    "\n",
    "# Load LaBSE model (multilingual embeddings)\n",
    "model = SentenceTransformer('sentence-transformers/LaBSE')\n",
    "\n",
    "input_file = \"Form.txt\"\n",
    "output_file = \"output_telugu.txt\"\n",
    "\n",
    "with open(input_file, 'r', encoding='utf-8') as infile:\n",
    "    lines = [line.strip() for line in infile if line.strip()]\n",
    "\n",
    "with open(output_file, 'w', encoding='utf-8') as outfile:\n",
    "    for line in lines:\n",
    "        translated = \"\"\n",
    "        retries = 3\n",
    "        while retries > 0:\n",
    "            try:\n",
    "                translated = GoogleTranslator(source='en', target='te').translate(line)\n",
    "                break\n",
    "            except Exception as e:\n",
    "                print(f\"Translation failed for line: {line}\")\n",
    "                print(\"Error:\", e)\n",
    "                retries -= 1\n",
    "                time.sleep(1)\n",
    "\n",
    "        if not translated:\n",
    "            translated = line  # fallback\n",
    "\n",
    "        # --- Validation with LaBSE ---\n",
    "        embeddings = model.encode([line, translated], convert_to_tensor=True)\n",
    "        sim_score = util.cos_sim(embeddings[0], embeddings[1]).item()\n",
    "\n",
    "        # Save translation + score\n",
    "        outfile.write(translated + f\"  ||  SIMILARITY: {sim_score:.3f}\\n\")\n",
    "\n",
    "        # Throttle API calls\n",
    "        time.sleep(0.5)\n",
    "\n",
    "print(\"Done! See\", output_file)\n"
   ]
  },
  {
   "cell_type": "raw",
   "id": "d1dd5da0-e679-4e13-9f5a-274a7c071404",
   "metadata": {},
   "source": [
    "!pip install deep-translator sentence-transformers torch\n"
   ]
  },
  {
   "cell_type": "raw",
   "id": "fcb43336-2245-4590-8f88-0579f097105e",
   "metadata": {},
   "source": [
    "!pip install tf-keras\n"
   ]
  },
  {
   "cell_type": "code",
   "execution_count": 1,
   "id": "aed505fd-0335-4032-88c8-882e2a16f7f6",
   "metadata": {},
   "outputs": [
    {
     "name": "stdout",
     "output_type": "stream",
     "text": [
      "WARNING:tensorflow:From C:\\Users\\HAI\\AppData\\Local\\Programs\\Python\\Python313\\Lib\\site-packages\\tf_keras\\src\\losses.py:2976: The name tf.losses.sparse_softmax_cross_entropy is deprecated. Please use tf.compat.v1.losses.sparse_softmax_cross_entropy instead.\n",
      "\n",
      "Translations complete. See output_telugu13.txt\n"
     ]
    },
    {
     "data": {
      "application/vnd.jupyter.widget-view+json": {
       "model_id": "a3d360487b43499fb31e8b418ffecdf8",
       "version_major": 2,
       "version_minor": 0
      },
      "text/plain": [
       "Batches:   0%|          | 0/3 [00:00<?, ?it/s]"
      ]
     },
     "metadata": {},
     "output_type": "display_data"
    },
    {
     "data": {
      "application/vnd.jupyter.widget-view+json": {
       "model_id": "0fae014be2ac4f0e9a8f3fbe96c582bf",
       "version_major": 2,
       "version_minor": 0
      },
      "text/plain": [
       "Batches:   0%|          | 0/3 [00:00<?, ?it/s]"
      ]
     },
     "metadata": {},
     "output_type": "display_data"
    },
    {
     "name": "stdout",
     "output_type": "stream",
     "text": [
      "Recall@1: 0.973\n",
      "Recall@5: 1.000\n"
     ]
    },
    {
     "data": {
      "image/png": "[encoded data removed]",
      "text/plain": [
       "<Figure size 640x480 with 1 Axes>"
      ]
     },
     "metadata": {},
     "output_type": "display_data"
    },
    {
     "name": "stdout",
     "output_type": "stream",
     "text": [
      "Suspicious low-score sections saved to suspicious_sections.txt\n"
     ]
    }
   ],
   "source": [
    "# pip install deep-translator sentence-transformers torch matplotlib\n",
    "\n",
    "from deep_translator import GoogleTranslator\n",
    "from sentence_transformers import SentenceTransformer, util\n",
    "import time\n",
    "import matplotlib.pyplot as plt\n",
    "import numpy as np\n",
    "\n",
    "# Load LaBSE model (multilingual embeddings)\n",
    "model = SentenceTransformer('sentence-transformers/LaBSE')\n",
    "\n",
    "input_file = \"Form.txt\"\n",
    "output_file = \"output_telugu13.txt\"\n",
    "\n",
    "# --- Step 1: Read English lines ---\n",
    "with open(input_file, 'r', encoding='utf-8') as infile:\n",
    "    lines = [line.strip() for line in infile if line.strip()]\n",
    "\n",
    "translations = []\n",
    "\n",
    "# --- Step 2: Translate each line ---\n",
    "with open(output_file, 'w', encoding='utf-8') as outfile:\n",
    "    for line in lines:\n",
    "        translated = \"\"\n",
    "        retries = 3\n",
    "        while retries > 0:\n",
    "            try:\n",
    "                translated = GoogleTranslator(source='en', target='te').translate(line)\n",
    "                break\n",
    "            except Exception as e:\n",
    "                print(f\"Translation failed for line: {line}\")\n",
    "                print(\"Error:\", e)\n",
    "                retries -= 1\n",
    "                time.sleep(1)\n",
    "\n",
    "        if not translated:\n",
    "            translated = line  # fallback\n",
    "\n",
    "        translations.append(translated)\n",
    "\n",
    "        # --- Quick similarity check per line ---\n",
    "        embeddings = model.encode([line, translated], convert_to_tensor=True)\n",
    "        sim_score = util.cos_sim(embeddings[0], embeddings[1]).item()\n",
    "\n",
    "        outfile.write(translated + f\"  ||  SIMILARITY: {sim_score:.3f}\\n\")\n",
    "        time.sleep(0.5)  # Throttle API calls\n",
    "\n",
    "print(\"Translations complete. See\", output_file)\n",
    "\n",
    "# --- Step 3: Compute embeddings for retrieval ---\n",
    "emb_en = model.encode(lines, convert_to_tensor=True, show_progress_bar=True)\n",
    "emb_te = model.encode(translations, convert_to_tensor=True, show_progress_bar=True)\n",
    "\n",
    "# --- Step 4: Retrieval Check (Recall@1 and Recall@5) ---\n",
    "recall_at_1 = 0\n",
    "recall_at_5 = 0\n",
    "\n",
    "for i in range(len(lines)):\n",
    "    sims = util.cos_sim(emb_en[i], emb_te)[0]\n",
    "    topk_idx = sims.argsort(descending=True)[:5]  # top 5 matches\n",
    "    if i in topk_idx[:1]:\n",
    "        recall_at_1 += 1\n",
    "    if i in topk_idx:\n",
    "        recall_at_5 += 1\n",
    "\n",
    "recall_at_1 /= len(lines)\n",
    "recall_at_5 /= len(lines)\n",
    "\n",
    "print(f\"Recall@1: {recall_at_1:.3f}\")\n",
    "print(f\"Recall@5: {recall_at_5:.3f}\")\n",
    "\n",
    "# --- Step 5: Distributional Consistency ---\n",
    "similarities = [util.cos_sim(emb_en[i], emb_te[i]).item() for i in range(len(lines))]\n",
    "\n",
    "plt.hist(similarities, bins=20, alpha=0.7, color='blue')\n",
    "plt.title(\"Distribution of Similarity Scores (LaBSE)\")\n",
    "plt.xlabel(\"Cosine Similarity\")\n",
    "plt.ylabel(\"Frequency\")\n",
    "plt.axvline(0.85, color='green', linestyle='--', label='Good Threshold (0.85)')\n",
    "plt.axvline(0.70, color='red', linestyle='--', label='Weak Threshold (0.70)')\n",
    "plt.legend()\n",
    "plt.show()\n",
    "\n",
    "# --- Step 6: Save low-score suspicious sections ---\n",
    "with open(\"suspicious_sections.txt\", \"w\", encoding=\"utf-8\") as f:\n",
    "    for i, score in enumerate(similarities):\n",
    "        if score < 0.70:  # threshold for suspicious translations\n",
    "            f.write(f\"EN: {lines[i]}\\nTE: {translations[i]}\\nSIM: {score:.3f}\\n\\n\")\n",
    "\n",
    "print(\"Suspicious low-score sections saved to suspicious_sections.txt\")\n"
   ]
  },
  {
   "cell_type": "code",
   "execution_count": 1,
   "id": "b5bc64c5-4870-4ee2-b51b-1e3a5281eb66",
   "metadata": {},
   "outputs": [
    {
     "name": "stdout",
     "output_type": "stream",
     "text": [
      "WARNING:tensorflow:From C:\\Users\\HAI\\AppData\\Local\\Programs\\Python\\Python313\\Lib\\site-packages\\tf_keras\\src\\losses.py:2976: The name tf.losses.sparse_softmax_cross_entropy is deprecated. Please use tf.compat.v1.losses.sparse_softmax_cross_entropy instead.\n",
      "\n",
      "✅ Translations complete. Saved to output_telugu131.txt\n"
     ]
    },
    {
     "data": {
      "application/vnd.jupyter.widget-view+json": {
       "model_id": "2c811c64d8c742ef89d535ef22a6ede7",
       "version_major": 2,
       "version_minor": 0
      },
      "text/plain": [
       "Batches:   0%|          | 0/3 [00:00<?, ?it/s]"
      ]
     },
     "metadata": {},
     "output_type": "display_data"
    },
    {
     "data": {
      "application/vnd.jupyter.widget-view+json": {
       "model_id": "8391d9f5f9f64c798c86227b458b38b1",
       "version_major": 2,
       "version_minor": 0
      },
      "text/plain": [
       "Batches:   0%|          | 0/3 [00:00<?, ?it/s]"
      ]
     },
     "metadata": {},
     "output_type": "display_data"
    },
    {
     "name": "stdout",
     "output_type": "stream",
     "text": [
      "📊 Recall@1: 0.973\n",
      "📊 Recall@5: 1.000\n"
     ]
    },
    {
     "data": {
      "image/png": "[encoded data removed]",
      "text/plain": [
       "<Figure size 640x480 with 1 Axes>"
      ]
     },
     "metadata": {},
     "output_type": "display_data"
    },
    {
     "name": "stdout",
     "output_type": "stream",
     "text": [
      "⚠️ Suspicious translations (score < 0.75) saved to suspicious_sections.txt\n"
     ]
    }
   ],
   "source": [
    "# pip install deep-translator sentence-transformers torch matplotlib\n",
    "\n",
    "from deep_translator import GoogleTranslator\n",
    "from sentence_transformers import SentenceTransformer, util\n",
    "import time\n",
    "import matplotlib.pyplot as plt\n",
    "import numpy as np\n",
    "\n",
    "# --- Load LaBSE multilingual embedding model ---\n",
    "model = SentenceTransformer('sentence-transformers/LaBSE')\n",
    "\n",
    "input_file = \"Form.txt\"\n",
    "output_file = \"output_telugu131.txt\"\n",
    "\n",
    "# --- Step 1: Read English lines ---\n",
    "with open(input_file, 'r', encoding='utf-8') as infile:\n",
    "    lines = [line.strip() for line in infile if line.strip()]\n",
    "\n",
    "translations = []\n",
    "\n",
    "# --- Step 2: Translate each line ---\n",
    "with open(output_file, 'w', encoding='utf-8') as outfile:\n",
    "    for line in lines:\n",
    "        translated = \"\"\n",
    "        retries = 3\n",
    "        while retries > 0:\n",
    "            try:\n",
    "                translated = GoogleTranslator(source='en', target='te').translate(line)\n",
    "                break\n",
    "            except Exception as e:\n",
    "                print(f\"Translation failed for line: {line}\")\n",
    "                print(\"Error:\", e)\n",
    "                retries -= 1\n",
    "                time.sleep(1)\n",
    "\n",
    "        if not translated:\n",
    "            translated = line  # fallback if translation fails\n",
    "\n",
    "        translations.append(translated)\n",
    "        outfile.write(translated + \"\\n\")  # no similarity score shown\n",
    "        time.sleep(0.5)  # to avoid rate limiting\n",
    "\n",
    "print(\"✅ Translations complete. Saved to\", output_file)\n",
    "\n",
    "# --- Step 3: Compute embeddings for retrieval evaluation ---\n",
    "emb_en = model.encode(lines, convert_to_tensor=True, show_progress_bar=True)\n",
    "emb_te = model.encode(translations, convert_to_tensor=True, show_progress_bar=True)\n",
    "\n",
    "# --- Step 4: Retrieval Check (Recall@1 and Recall@5) ---\n",
    "recall_at_1 = 0\n",
    "recall_at_5 = 0\n",
    "\n",
    "for i in range(len(lines)):\n",
    "    sims = util.cos_sim(emb_en[i], emb_te)[0]\n",
    "    topk_idx = sims.argsort(descending=True)[:5]\n",
    "    if i in topk_idx[:1]:\n",
    "        recall_at_1 += 1\n",
    "    if i in topk_idx:\n",
    "        recall_at_5 += 1\n",
    "\n",
    "recall_at_1 /= len(lines)\n",
    "recall_at_5 /= len(lines)\n",
    "\n",
    "print(f\"📊 Recall@1: {recall_at_1:.3f}\")\n",
    "print(f\"📊 Recall@5: {recall_at_5:.3f}\")\n",
    "\n",
    "# --- Step 5: Distribution Consistency (Semantic Similarity Histogram) ---\n",
    "similarities = [util.cos_sim(emb_en[i], emb_te[i]).item() for i in range(len(lines))]\n",
    "\n",
    "plt.hist(similarities, bins=20, alpha=0.7, color='blue')\n",
    "plt.title(\"Distribution of Translation Semantic Similarity (LaBSE)\")\n",
    "plt.xlabel(\"Cosine Similarity\")\n",
    "plt.ylabel(\"Frequency\")\n",
    "plt.axvline(0.85, color='green', linestyle='--', label='Good (0.85)')\n",
    "plt.axvline(0.75, color='red', linestyle='--', label='Suspicious (<0.75)')\n",
    "plt.legend()\n",
    "plt.show()\n",
    "\n",
    "# --- Step 6: Save suspicious low-score translations (<0.75) ---\n",
    "with open(\"suspicious_sections.txt\", \"w\", encoding=\"utf-8\") as f:\n",
    "    for i, score in enumerate(similarities):\n",
    "        if score < 0.75:  # threshold for suspicious translation\n",
    "            f.write(f\"EN: {lines[i]}\\n\")\n",
    "            f.write(f\"TE: {translations[i]}\\n\\n\")\n",
    "\n",
    "print(\"⚠️ Suspicious translations (score < 0.75) saved to suspicious_sections.txt\")\n"
   ]
  },
  {
   "cell_type": "code",
   "execution_count": 2,
   "id": "568f12d7-05af-4e5b-9f6b-e83165001a1f",
   "metadata": {},
   "outputs": [
    {
     "name": "stdout",
     "output_type": "stream",
     "text": [
      "✅ Translations complete. Saved to output_telugu1312.txt\n"
     ]
    },
    {
     "data": {
      "application/vnd.jupyter.widget-view+json": {
       "model_id": "72beab4db21c44c186f6ab1ffbde774f",
       "version_major": 2,
       "version_minor": 0
      },
      "text/plain": [
       "Batches:   0%|          | 0/3 [00:00<?, ?it/s]"
      ]
     },
     "metadata": {},
     "output_type": "display_data"
    },
    {
     "data": {
      "application/vnd.jupyter.widget-view+json": {
       "model_id": "deb5c52a105b49a3a588b1a4401a5965",
       "version_major": 2,
       "version_minor": 0
      },
      "text/plain": [
       "Batches:   0%|          | 0/3 [00:00<?, ?it/s]"
      ]
     },
     "metadata": {},
     "output_type": "display_data"
    },
    {
     "name": "stdout",
     "output_type": "stream",
     "text": [
      "📊 Recall@1: 0.973\n",
      "📊 Recall@5: 1.000\n"
     ]
    },
    {
     "data": {
      "image/png": "[encoded data removed]",
      "text/plain": [
       "<Figure size 640x480 with 1 Axes>"
      ]
     },
     "metadata": {},
     "output_type": "display_data"
    },
    {
     "name": "stdout",
     "output_type": "stream",
     "text": [
      "⚠️ Suspicious translations (score < 0.75) saved to suspicious_sections.txt\n"
     ]
    }
   ],
   "source": [
    "# pip install deep-translator sentence-transformers torch matplotlib\n",
    "\n",
    "from deep_translator import GoogleTranslator\n",
    "from sentence_transformers import SentenceTransformer, util\n",
    "import time\n",
    "import matplotlib.pyplot as plt\n",
    "import numpy as np\n",
    "\n",
    "# --- Load LaBSE multilingual embedding model ---\n",
    "model = SentenceTransformer('sentence-transformers/LaBSE')\n",
    "\n",
    "input_file = \"Form.txt\"\n",
    "output_file = \"output_telugu1312.txt\"\n",
    "\n",
    "# --- Step 1: Read English lines ---\n",
    "with open(input_file, 'r', encoding='utf-8') as infile:\n",
    "    lines = [line.strip() for line in infile if line.strip()]\n",
    "\n",
    "translations = []\n",
    "\n",
    "# --- Step 2: Translate each line ---\n",
    "with open(output_file, 'w', encoding='utf-8') as outfile:\n",
    "    for line in lines:\n",
    "        translated = \"\"\n",
    "        retries = 3\n",
    "        while retries > 0:\n",
    "            try:\n",
    "                translated = GoogleTranslator(source='en', target='te').translate(line)\n",
    "                break\n",
    "            except Exception as e:\n",
    "                print(f\"Translation failed for line: {line}\")\n",
    "                print(\"Error:\", e)\n",
    "                retries -= 1\n",
    "                time.sleep(1)\n",
    "\n",
    "        if not translated:\n",
    "            translated = line  # fallback if translation fails\n",
    "\n",
    "        translations.append(translated)\n",
    "        outfile.write(translated + \"\\n\")  # no similarity score shown\n",
    "        time.sleep(0.5)  # throttle API calls\n",
    "\n",
    "print(\"✅ Translations complete. Saved to\", output_file)\n",
    "\n",
    "# --- Step 3: Compute embeddings for retrieval evaluation ---\n",
    "emb_en = model.encode(lines, convert_to_tensor=True, show_progress_bar=True)\n",
    "emb_te = model.encode(translations, convert_to_tensor=True, show_progress_bar=True)\n",
    "\n",
    "# --- Step 4: Retrieval Check (Recall@1 and Recall@5) ---\n",
    "recall_at_1 = 0\n",
    "recall_at_5 = 0\n",
    "\n",
    "for i in range(len(lines)):\n",
    "    sims = util.cos_sim(emb_en[i], emb_te)[0]\n",
    "    topk_idx = sims.argsort(descending=True)[:5]\n",
    "    if i in topk_idx[:1]:\n",
    "        recall_at_1 += 1\n",
    "    if i in topk_idx:\n",
    "        recall_at_5 += 1\n",
    "\n",
    "recall_at_1 /= len(lines)\n",
    "recall_at_5 /= len(lines)\n",
    "\n",
    "print(f\"📊 Recall@1: {recall_at_1:.3f}\")\n",
    "print(f\"📊 Recall@5: {recall_at_5:.3f}\")\n",
    "\n",
    "# --- Step 5: Distribution Consistency (Semantic Similarity Histogram) ---\n",
    "similarities = [util.cos_sim(emb_en[i], emb_te[i]).item() for i in range(len(lines))]\n",
    "\n",
    "plt.hist(similarities, bins=20, alpha=0.7, color='blue')\n",
    "plt.title(\"Distribution of Translation Semantic Similarity (LaBSE)\")\n",
    "plt.xlabel(\"Cosine Similarity\")\n",
    "plt.ylabel(\"Frequency\")\n",
    "plt.axvline(0.85, color='green', linestyle='--', label='Good (0.85)')\n",
    "plt.axvline(0.75, color='red', linestyle='--', label='Suspicious (<0.75)')\n",
    "plt.legend()\n",
    "plt.show()\n",
    "\n",
    "# --- Step 6: Save suspicious low-score translations (<0.75) ---\n",
    "with open(\"suspicious_sections.txt\", \"w\", encoding=\"utf-8\") as f:\n",
    "    for i, score in enumerate(similarities):\n",
    "        if score < 0.75:  # threshold for suspicious translation\n",
    "            f.write(f\"Line {i+1}\\n\")\n",
    "            f.write(f\"EN: {lines[i]}\\n\")\n",
    "            f.write(f\"TE: {translations[i]}\\n\")\n",
    "            f.write(f\"Semantic Similarity: {score:.3f}\\n\\n\")\n",
    "\n",
    "print(\"⚠️ Suspicious translations (score < 0.75) saved to suspicious_sections.txt\")\n"
   ]
  },
  {
   "cell_type": "code",
   "execution_count": 1,
   "id": "21959497-eae0-4810-a8c2-4a357611627b",
   "metadata": {},
   "outputs": [
    {
     "name": "stdout",
     "output_type": "stream",
     "text": [
      "WARNING:tensorflow:From C:\\Users\\HAI\\AppData\\Local\\Programs\\Python\\Python313\\Lib\\site-packages\\tf_keras\\src\\losses.py:2976: The name tf.losses.sparse_softmax_cross_entropy is deprecated. Please use tf.compat.v1.losses.sparse_softmax_cross_entropy instead.\n",
      "\n",
      "📘 Loaded 46 paragraphs from Form.txt\n"
     ]
    },
    {
     "name": "stderr",
     "output_type": "stream",
     "text": [
      "Translating: 100%|█████████████████████████████████████████████████████████████████████| 46/46 [01:21<00:00,  1.78s/it]\n"
     ]
    },
    {
     "name": "stdout",
     "output_type": "stream",
     "text": [
      "✅ Translations saved to output_telugu_fixed.txt\n",
      "🔍 Loading LaBSE model...\n"
     ]
    },
    {
     "data": {
      "application/vnd.jupyter.widget-view+json": {
       "model_id": "0ec7201dba784bdfa243a66e1aa6ab90",
       "version_major": 2,
       "version_minor": 0
      },
      "text/plain": [
       "Batches:   0%|          | 0/3 [00:00<?, ?it/s]"
      ]
     },
     "metadata": {},
     "output_type": "display_data"
    },
    {
     "data": {
      "application/vnd.jupyter.widget-view+json": {
       "model_id": "7601f01541554cba8235e949ca276c8b",
       "version_major": 2,
       "version_minor": 0
      },
      "text/plain": [
       "Batches:   0%|          | 0/3 [00:00<?, ?it/s]"
      ]
     },
     "metadata": {},
     "output_type": "display_data"
    },
    {
     "name": "stdout",
     "output_type": "stream",
     "text": [
      "📊 Recall@1: 0.978\n",
      "📊 Recall@5: 1.000\n"
     ]
    },
    {
     "data": {
      "image/png": "[encoded data removed]",
      "text/plain": [
       "<Figure size 800x500 with 1 Axes>"
      ]
     },
     "metadata": {},
     "output_type": "display_data"
    },
    {
     "name": "stdout",
     "output_type": "stream",
     "text": [
      "⚠️ Suspicious translations saved to suspicious_sections.txt\n"
     ]
    }
   ],
   "source": [
    "# pip install deep-translator sentence-transformers torch matplotlib tqdm\n",
    "\n",
    "import time\n",
    "import re\n",
    "import numpy as np\n",
    "import matplotlib.pyplot as plt\n",
    "from tqdm import tqdm\n",
    "from deep_translator import GoogleTranslator\n",
    "from sentence_transformers import SentenceTransformer, util\n",
    "\n",
    "# ==========================================================\n",
    "# CONFIG\n",
    "# ==========================================================\n",
    "INPUT_FILE = \"Form.txt\"\n",
    "OUTPUT_FILE = \"output_telugu_fixed.txt\"\n",
    "SUSPICIOUS_FILE = \"suspicious_sections.txt\"\n",
    "TARGET_LANG = \"te\"  # Telugu\n",
    "SIMILARITY_THRESHOLD = 0.75\n",
    "\n",
    "# ==========================================================\n",
    "# STEP 1: LOAD AND CHUNK TEXT BY PARAGRAPH\n",
    "# ==========================================================\n",
    "def load_paragraphs(path):\n",
    "    with open(path, \"r\", encoding=\"utf-8\") as f:\n",
    "        text = f.read()\n",
    "    # Split by double newlines or large gaps\n",
    "    paragraphs = re.split(r'\\n\\s*\\n+', text.strip())\n",
    "    paragraphs = [p.strip() for p in paragraphs if len(p.strip()) > 5]\n",
    "    return paragraphs\n",
    "\n",
    "paragraphs = load_paragraphs(INPUT_FILE)\n",
    "print(f\"📘 Loaded {len(paragraphs)} paragraphs from {INPUT_FILE}\")\n",
    "\n",
    "# ==========================================================\n",
    "# STEP 2: TRANSLATE PARAGRAPHS\n",
    "# ==========================================================\n",
    "def translate_paragraphs(paragraphs, src='en', tgt='te'):\n",
    "    translated = []\n",
    "    translator = GoogleTranslator(source=src, target=tgt)\n",
    "    \n",
    "    for i, para in enumerate(tqdm(paragraphs, desc=\"Translating\")):\n",
    "        success = False\n",
    "        for attempt in range(5):  # Retry up to 5 times\n",
    "            try:\n",
    "                text_te = translator.translate(para)\n",
    "                if text_te:\n",
    "                    translated.append(text_te)\n",
    "                    success = True\n",
    "                    break\n",
    "            except Exception as e:\n",
    "                print(f\"⚠️ Retry {attempt+1}/5 failed for paragraph {i+1}: {e}\")\n",
    "                time.sleep(1 + attempt * 2)\n",
    "        if not success:\n",
    "            translated.append(para)  # fallback\n",
    "        time.sleep(0.4)  # avoid throttling\n",
    "    return translated\n",
    "\n",
    "translations = translate_paragraphs(paragraphs, 'en', TARGET_LANG)\n",
    "\n",
    "with open(OUTPUT_FILE, \"w\", encoding=\"utf-8\") as f:\n",
    "    for p in translations:\n",
    "        f.write(p.strip() + \"\\n\\n\")\n",
    "\n",
    "print(f\"✅ Translations saved to {OUTPUT_FILE}\")\n",
    "\n",
    "# ==========================================================\n",
    "# STEP 3: LOAD EMBEDDING MODEL (LaBSE)\n",
    "# ==========================================================\n",
    "print(\"🔍 Loading LaBSE model...\")\n",
    "model = SentenceTransformer('sentence-transformers/LaBSE')\n",
    "\n",
    "# Batch encode for speed\n",
    "emb_en = model.encode(paragraphs, batch_size=16, convert_to_tensor=True, show_progress_bar=True)\n",
    "emb_te = model.encode(translations, batch_size=16, convert_to_tensor=True, show_progress_bar=True)\n",
    "\n",
    "# ==========================================================\n",
    "# STEP 4: EVALUATE SEMANTIC SIMILARITY\n",
    "# ==========================================================\n",
    "similarities = [util.cos_sim(emb_en[i], emb_te[i]).item() for i in range(len(paragraphs))]\n",
    "\n",
    "recall_at_1 = 0\n",
    "recall_at_5 = 0\n",
    "for i in range(len(paragraphs)):\n",
    "    sims = util.cos_sim(emb_en[i], emb_te)[0]\n",
    "    topk = sims.argsort(descending=True)[:5]\n",
    "    if i in topk[:1]:\n",
    "        recall_at_1 += 1\n",
    "    if i in topk:\n",
    "        recall_at_5 += 1\n",
    "\n",
    "recall_at_1 /= len(paragraphs)\n",
    "recall_at_5 /= len(paragraphs)\n",
    "\n",
    "print(f\"📊 Recall@1: {recall_at_1:.3f}\")\n",
    "print(f\"📊 Recall@5: {recall_at_5:.3f}\")\n",
    "\n",
    "# ==========================================================\n",
    "# STEP 5: VISUALIZE DISTRIBUTION\n",
    "# ==========================================================\n",
    "plt.figure(figsize=(8, 5))\n",
    "plt.hist(similarities, bins=20, alpha=0.7, color='steelblue')\n",
    "plt.title(\"Translation Semantic Similarity Distribution (LaBSE)\")\n",
    "plt.xlabel(\"Cosine Similarity\")\n",
    "plt.ylabel(\"Paragraph Count\")\n",
    "plt.axvline(0.85, color='green', linestyle='--', label='Good (≥0.85)')\n",
    "plt.axvline(SIMILARITY_THRESHOLD, color='red', linestyle='--', label='Suspicious (<0.75)')\n",
    "plt.legend()\n",
    "plt.tight_layout()\n",
    "plt.show()\n",
    "\n",
    "# ==========================================================\n",
    "# STEP 6: SAVE LOW-SCORE TRANSLATIONS\n",
    "# ==========================================================\n",
    "with open(SUSPICIOUS_FILE, \"w\", encoding=\"utf-8\") as f:\n",
    "    for i, score in enumerate(similarities):\n",
    "        if score < SIMILARITY_THRESHOLD:\n",
    "            f.write(f\"=== Paragraph {i+1} ===\\n\")\n",
    "            f.write(f\"EN: {paragraphs[i]}\\n\")\n",
    "            f.write(f\"TE: {translations[i]}\\n\")\n",
    "            f.write(f\"Semantic Similarity: {score:.3f}\\n\\n\")\n",
    "\n",
    "print(f\"⚠️ Suspicious translations saved to {SUSPICIOUS_FILE}\")\n"
   ]
  },
  {
   "cell_type": "code",
   "execution_count": 2,
   "id": "5e2a37cd-79b8-457e-9cc0-13108e8b8f7c",
   "metadata": {},
   "outputs": [
    {
     "name": "stdout",
     "output_type": "stream",
     "text": [
      "📘 Loaded 7 paragraphs from table.txt\n"
     ]
    },
    {
     "name": "stderr",
     "output_type": "stream",
     "text": [
      "Translating: 100%|███████████████████████████████████████████████████████████████████████| 7/7 [00:16<00:00,  2.40s/it]\n"
     ]
    },
    {
     "name": "stdout",
     "output_type": "stream",
     "text": [
      "✅ Translations saved to TEST_telugu_fixed.txt\n",
      "🔍 Loading LaBSE model...\n"
     ]
    },
    {
     "data": {
      "application/vnd.jupyter.widget-view+json": {
       "model_id": "ce65b68a0dfa49e891ad63da52d0cce3",
       "version_major": 2,
       "version_minor": 0
      },
      "text/plain": [
       "Batches:   0%|          | 0/1 [00:00<?, ?it/s]"
      ]
     },
     "metadata": {},
     "output_type": "display_data"
    },
    {
     "data": {
      "application/vnd.jupyter.widget-view+json": {
       "model_id": "e38d599f48a0433ab229ad4f390cf597",
       "version_major": 2,
       "version_minor": 0
      },
      "text/plain": [
       "Batches:   0%|          | 0/1 [00:00<?, ?it/s]"
      ]
     },
     "metadata": {},
     "output_type": "display_data"
    },
    {
     "name": "stdout",
     "output_type": "stream",
     "text": [
      "📊 Recall@1: 1.000\n",
      "📊 Recall@5: 1.000\n"
     ]
    },
    {
     "data": {
      "image/png": "[encoded data removed]",
      "text/plain": [
       "<Figure size 800x500 with 1 Axes>"
      ]
     },
     "metadata": {},
     "output_type": "display_data"
    },
    {
     "name": "stdout",
     "output_type": "stream",
     "text": [
      "⚠️ Suspicious translations saved to suspicious_sections_test.txt\n"
     ]
    }
   ],
   "source": [
    "# pip install deep-translator sentence-transformers torch matplotlib tqdm\n",
    "\n",
    "import time\n",
    "import re\n",
    "import numpy as np\n",
    "import matplotlib.pyplot as plt\n",
    "from tqdm import tqdm\n",
    "from deep_translator import GoogleTranslator\n",
    "from sentence_transformers import SentenceTransformer, util\n",
    "\n",
    "# ==========================================================\n",
    "# CONFIG\n",
    "# ==========================================================\n",
    "INPUT_FILE = \"table.txt\"\n",
    "OUTPUT_FILE = \"TEST_telugu_fixed.txt\"\n",
    "SUSPICIOUS_FILE = \"suspicious_sections_test.txt\"\n",
    "TARGET_LANG = \"te\"  # Telugu\n",
    "SIMILARITY_THRESHOLD = 0.75\n",
    "\n",
    "# ==========================================================\n",
    "# STEP 1: LOAD AND CHUNK TEXT BY PARAGRAPH\n",
    "# ==========================================================\n",
    "def load_paragraphs(path):\n",
    "    with open(path, \"r\", encoding=\"utf-8\") as f:\n",
    "        text = f.read()\n",
    "    # Split by double newlines or large gaps\n",
    "    paragraphs = re.split(r'\\n\\s*\\n+', text.strip())\n",
    "    paragraphs = [p.strip() for p in paragraphs if len(p.strip()) > 5]\n",
    "    return paragraphs\n",
    "\n",
    "paragraphs = load_paragraphs(INPUT_FILE)\n",
    "print(f\"📘 Loaded {len(paragraphs)} paragraphs from {INPUT_FILE}\")\n",
    "\n",
    "# ==========================================================\n",
    "# STEP 2: TRANSLATE PARAGRAPHS\n",
    "# ==========================================================\n",
    "def translate_paragraphs(paragraphs, src='en', tgt='te'):\n",
    "    translated = []\n",
    "    translator = GoogleTranslator(source=src, target=tgt)\n",
    "    \n",
    "    for i, para in enumerate(tqdm(paragraphs, desc=\"Translating\")):\n",
    "        success = False\n",
    "        for attempt in range(5):  # Retry up to 5 times\n",
    "            try:\n",
    "                text_te = translator.translate(para)\n",
    "                if text_te:\n",
    "                    translated.append(text_te)\n",
    "                    success = True\n",
    "                    break\n",
    "            except Exception as e:\n",
    "                print(f\"⚠️ Retry {attempt+1}/5 failed for paragraph {i+1}: {e}\")\n",
    "                time.sleep(1 + attempt * 2)\n",
    "        if not success:\n",
    "            translated.append(para)  # fallback\n",
    "        time.sleep(0.4)  # avoid throttling\n",
    "    return translated\n",
    "\n",
    "translations = translate_paragraphs(paragraphs, 'en', TARGET_LANG)\n",
    "\n",
    "with open(OUTPUT_FILE, \"w\", encoding=\"utf-8\") as f:\n",
    "    for p in translations:\n",
    "        f.write(p.strip() + \"\\n\\n\")\n",
    "\n",
    "print(f\"✅ Translations saved to {OUTPUT_FILE}\")\n",
    "\n",
    "# ==========================================================\n",
    "# STEP 3: LOAD EMBEDDING MODEL (LaBSE)\n",
    "# ==========================================================\n",
    "print(\"🔍 Loading LaBSE model...\")\n",
    "model = SentenceTransformer('sentence-transformers/LaBSE')\n",
    "\n",
    "# Batch encode for speed\n",
    "emb_en = model.encode(paragraphs, batch_size=16, convert_to_tensor=True, show_progress_bar=True)\n",
    "emb_te = model.encode(translations, batch_size=16, convert_to_tensor=True, show_progress_bar=True)\n",
    "\n",
    "# ==========================================================\n",
    "# STEP 4: EVALUATE SEMANTIC SIMILARITY\n",
    "# ==========================================================\n",
    "similarities = [util.cos_sim(emb_en[i], emb_te[i]).item() for i in range(len(paragraphs))]\n",
    "\n",
    "recall_at_1 = 0\n",
    "recall_at_5 = 0\n",
    "for i in range(len(paragraphs)):\n",
    "    sims = util.cos_sim(emb_en[i], emb_te)[0]\n",
    "    topk = sims.argsort(descending=True)[:5]\n",
    "    if i in topk[:1]:\n",
    "        recall_at_1 += 1\n",
    "    if i in topk:\n",
    "        recall_at_5 += 1\n",
    "f\n",
    "recall_at_1 /= len(paragraphs)\n",
    "recall_at_5 /= len(paragraphs)\n",
    "\n",
    "print(f\"📊 Recall@1: {recall_at_1:.3f}\")\n",
    "print(f\"📊 Recall@5: {recall_at_5:.3f}\")\n",
    "\n",
    "# ==========================================================\n",
    "# STEP 5: VISUALIZE DISTRIBUTION\n",
    "# ==========================================================\n",
    "plt.figure(figsize=(8, 5))\n",
    "plt.hist(similarities, bins=20, alpha=0.7, color='steelblue')\n",
    "plt.title(\"Translation Semantic Similarity Distribution (LaBSE)\")\n",
    "plt.xlabel(\"Cosine Similarity\")\n",
    "plt.ylabel(\"Paragraph Count\")\n",
    "plt.axvline(0.85, color='green', linestyle='--', label='Good (≥0.85)')\n",
    "plt.axvline(SIMILARITY_THRESHOLD, color='red', linestyle='--', label='Suspicious (<0.75)')\n",
    "plt.legend()\n",
    "plt.tight_layout()\n",
    "plt.show()\n",
    "\n",
    "# ==========================================================\n",
    "# STEP 6: SAVE LOW-SCORE TRANSLATIONS\n",
    "# ==========================================================\n",
    "with open(SUSPICIOUS_FILE, \"w\", encoding=\"utf-8\") as f:\n",
    "    for i, score in enumerate(similarities):\n",
    "        if score < SIMILARITY_THRESHOLD:\n",
    "            f.write(f\"=== Paragraph {i+1} ===\\n\")\n",
    "            f.write(f\"EN: {paragraphs[i]}\\n\")\n",
    "            f.write(f\"TE: {translations[i]}\\n\")\n",
    "            f.write(f\"Semantic Similarity: {score:.3f}\\n\\n\")\n",
    "\n",
    "print(f\"⚠️ Suspicious translations saved to {SUSPICIOUS_FILE}\")\n"
   ]
  },
  {
   "cell_type": "code",
   "execution_count": 3,
   "id": "4cabc96d-bd63-4769-94e2-34d3d8ef68b4",
   "metadata": {},
   "outputs": [
    {
     "name": "stdout",
     "output_type": "stream",
     "text": [
      "📄 Extracting text and preserving layout...\n",
      "📘 Loaded 46 paragraphs from Form.txt\n"
     ]
    },
    {
     "name": "stderr",
     "output_type": "stream",
     "text": [
      "Translating: 100%|█████████████████████████████████████████████████████████████████████| 46/46 [01:21<00:00,  1.76s/it]\n"
     ]
    },
    {
     "name": "stdout",
     "output_type": "stream",
     "text": [
      "✅ Translations saved to TEST_french_fixed.txt\n",
      "🔍 Loading LaBSE model...\n"
     ]
    },
    {
     "data": {
      "application/vnd.jupyter.widget-view+json": {
       "model_id": "09b75d642ea2418c8b6396292ed8149d",
       "version_major": 2,
       "version_minor": 0
      },
      "text/plain": [
       "Batches:   0%|          | 0/3 [00:00<?, ?it/s]"
      ]
     },
     "metadata": {},
     "output_type": "display_data"
    },
    {
     "data": {
      "application/vnd.jupyter.widget-view+json": {
       "model_id": "2b922ba248d64eafa654bfcef2b49923",
       "version_major": 2,
       "version_minor": 0
      },
      "text/plain": [
       "Batches:   0%|          | 0/3 [00:00<?, ?it/s]"
      ]
     },
     "metadata": {},
     "output_type": "display_data"
    },
    {
     "name": "stdout",
     "output_type": "stream",
     "text": [
      "📊 Recall@1: 0.978\n",
      "📊 Recall@5: 1.000\n"
     ]
    },
    {
     "data": {
      "image/png": "[encoded data removed]",
      "text/plain": [
       "<Figure size 800x500 with 1 Axes>"
      ]
     },
     "metadata": {},
     "output_type": "display_data"
    },
    {
     "name": "stdout",
     "output_type": "stream",
     "text": [
      "⚠️ Suspicious translations saved to suspicious_sections_test.txt\n"
     ]
    }
   ],
   "source": [
    "# ==========================================================\n",
    "# Install (only first run)\n",
    "# ==========================================================\n",
    "# pip install -q deep-translator sentence-transformers torch matplotlib tqdm python-docx pdfplumber PyMuPDF pytesseract Pillow\n",
    "\n",
    "import os, re, time, pdfplumber, pytesseract\n",
    "import matplotlib.pyplot as plt\n",
    "from tqdm import tqdm\n",
    "from deep_translator import GoogleTranslator\n",
    "from sentence_transformers import SentenceTransformer, util\n",
    "from docx import Document\n",
    "from docx.document import Document as _Document\n",
    "from docx.oxml.text.paragraph import CT_P\n",
    "from docx.oxml.table import CT_Tbl\n",
    "from docx.text.paragraph import Paragraph\n",
    "from docx.table import Table\n",
    "from PIL import Image\n",
    "\n",
    "# ==========================================================\n",
    "# CONFIG\n",
    "# ==========================================================\n",
    "INPUT_FILE = \"Form.txt\"         # txt, pdf, or docx\n",
    "OUTPUT_FILE = \"TEST_french_fixed.txt\"\n",
    "SUSPICIOUS_FILE = \"suspicious_sections_test.txt\"\n",
    "TARGET_LANG = \"te\"               # Telugu\n",
    "SIMILARITY_THRESHOLD = 0.75\n",
    "\n",
    "# ==========================================================\n",
    "# HELPER: Iterate DOCX blocks preserving order\n",
    "# ==========================================================\n",
    "def iter_block_items(parent):\n",
    "    if not isinstance(parent, _Document):\n",
    "        raise ValueError(\"Unsupported parent for block items\")\n",
    "    for child in parent.element.body:\n",
    "        if isinstance(child, CT_P):\n",
    "            yield Paragraph(child, parent)\n",
    "        elif isinstance(child, CT_Tbl):\n",
    "            yield Table(child, parent)\n",
    "\n",
    "# ==========================================================\n",
    "# DOCX Extraction\n",
    "# ==========================================================\n",
    "def extract_from_docx(path):\n",
    "    doc = Document(path)\n",
    "    elements = []\n",
    "    for block in iter_block_items(doc):\n",
    "        if isinstance(block, Paragraph):\n",
    "            elements.append({\n",
    "                \"type\": \"paragraph\",\n",
    "                \"text\": block.text,\n",
    "                \"indent\": getattr(block.paragraph_format.left_indent, 'pt', 0) or 0\n",
    "            })\n",
    "        else:\n",
    "            data = [[cell.text for cell in row.cells] for row in block.rows]\n",
    "            elements.append({\"type\": \"table\", \"data\": data})\n",
    "    return elements\n",
    "\n",
    "# ==========================================================\n",
    "# PDF Extraction (text + OCR fallback)\n",
    "# ==========================================================\n",
    "def extract_from_pdf(path):\n",
    "    elements = []\n",
    "    with pdfplumber.open(path) as pdf:\n",
    "        for i, page in enumerate(pdf.pages, 1):\n",
    "            elements.append({\"type\": \"page_break\", \"page\": i})\n",
    "            txt = page.extract_text(layout=True)\n",
    "            if txt and txt.strip():\n",
    "                elements.append({\"type\": \"paragraph\", \"text\": txt})\n",
    "            else:\n",
    "                img = page.to_image(resolution=300).original.convert(\"RGB\")\n",
    "                text = pytesseract.image_to_string(img)\n",
    "                elements.append({\"type\": \"paragraph\", \"text\": text})\n",
    "    return elements\n",
    "\n",
    "# ==========================================================\n",
    "# TXT Extraction (preserve spacing and tables)\n",
    "# ==========================================================\n",
    "def extract_from_txt(path):\n",
    "    with open(path, \"r\", encoding=\"utf-8\", errors=\"ignore\") as f:\n",
    "        raw_lines = f.readlines()\n",
    "\n",
    "    blocks, block = [], []\n",
    "    for line in raw_lines:\n",
    "        if line.strip():\n",
    "            block.append(line.rstrip(\"\\n\"))\n",
    "        else:\n",
    "            if block:\n",
    "                blocks.append(block)\n",
    "                block = []\n",
    "    if block:\n",
    "        blocks.append(block)\n",
    "\n",
    "    elements = []\n",
    "    for b in blocks:\n",
    "        if all(re.search(r\"\\s{2,}\", l) for l in b):  # looks like table\n",
    "            data = [re.split(r\"\\s{2,}\", l.strip()) for l in b]\n",
    "            elements.append({\"type\": \"table\", \"data\": data})\n",
    "        else:\n",
    "            text = \"\\n\".join(b)\n",
    "            elements.append({\"type\": \"paragraph\", \"text\": text})\n",
    "    return elements\n",
    "\n",
    "# ==========================================================\n",
    "# FORMAT ELEMENTS BACK TO TEXT (layout preserved)\n",
    "# ==========================================================\n",
    "def format_elements(elements):\n",
    "    lines = []\n",
    "    for el in elements:\n",
    "        if el[\"type\"] == \"table\":\n",
    "            if not el[\"data\"]: continue\n",
    "            cols = list(zip(*el[\"data\"]))\n",
    "            widths = [max(len(str(c)) for c in col) for col in cols]\n",
    "            for row in el[\"data\"]:\n",
    "                padded = [str(c).ljust(w) for c, w in zip(row, widths)]\n",
    "                lines.append(\"  \".join(padded))\n",
    "            lines.append(\"\")  # spacing after table\n",
    "        elif el[\"type\"] == \"paragraph\":\n",
    "            lines.append(el[\"text\"])\n",
    "            lines.append(\"\")\n",
    "        elif el[\"type\"] == \"page_break\":\n",
    "            lines.append(f\"\\n--- Page {el['page']} ---\\n\")\n",
    "    return \"\\n\".join(lines)\n",
    "\n",
    "# ==========================================================\n",
    "# CONVERT INPUT FILE → FORMATTED TXT\n",
    "# ==========================================================\n",
    "def convert_to_txt(input_path):\n",
    "    ext = os.path.splitext(input_path)[1].lower()\n",
    "    if ext == \".docx\":\n",
    "        elements = extract_from_docx(input_path)\n",
    "    elif ext == \".pdf\":\n",
    "        elements = extract_from_pdf(input_path)\n",
    "    elif ext == \".txt\":\n",
    "        elements = extract_from_txt(input_path)\n",
    "    else:\n",
    "        raise ValueError(f\"Unsupported file type: {ext}\")\n",
    "    return format_elements(elements)\n",
    "\n",
    "# ==========================================================\n",
    "# TRANSLATION\n",
    "# ==========================================================\n",
    "def translate_paragraphs(paragraphs, src='en', tgt='fr'):\n",
    "    translated = []\n",
    "    translator = GoogleTranslator(source=src, target=tgt)\n",
    "    for i, para in enumerate(tqdm(paragraphs, desc=\"Translating\")):\n",
    "        text_te, success = \"\", False\n",
    "        for attempt in range(5):\n",
    "            try:\n",
    "                text_te = translator.translate(para)\n",
    "                if text_te:\n",
    "                    success = True\n",
    "                    break\n",
    "            except Exception as e:\n",
    "                print(f\"⚠️ Retry {attempt+1}/5 failed for paragraph {i+1}: {e}\")\n",
    "                time.sleep(1 + attempt * 2)\n",
    "        translated.append(text_te if success else para)\n",
    "        time.sleep(0.4)\n",
    "    return translated\n",
    "\n",
    "# ==========================================================\n",
    "# MAIN PIPELINE\n",
    "# ==========================================================\n",
    "if __name__ == \"__main__\":\n",
    "    print(\"📄 Extracting text and preserving layout...\")\n",
    "    full_text = convert_to_txt(INPUT_FILE)\n",
    "\n",
    "    # Split into paragraphs by double newlines\n",
    "    paragraphs = re.split(r'\\n\\s*\\n+', full_text.strip())\n",
    "    paragraphs = [p.strip() for p in paragraphs if len(p.strip()) > 5]\n",
    "    print(f\"📘 Loaded {len(paragraphs)} paragraphs from {INPUT_FILE}\")\n",
    "\n",
    "    # Translate\n",
    "    translations = translate_paragraphs(paragraphs, 'en', TARGET_LANG)\n",
    "    with open(OUTPUT_FILE, \"w\", encoding=\"utf-8\") as f:\n",
    "        for p in translations:\n",
    "            f.write(p.strip() + \"\\n\\n\")\n",
    "    print(f\"✅ Translations saved to {OUTPUT_FILE}\")\n",
    "\n",
    "    # Load model and compute similarity\n",
    "    print(\"🔍 Loading LaBSE model...\")\n",
    "    model = SentenceTransformer('sentence-transformers/LaBSE')\n",
    "    emb_en = model.encode(paragraphs, batch_size=16, convert_to_tensor=True, show_progress_bar=True)\n",
    "    emb_te = model.encode(translations, batch_size=16, convert_to_tensor=True, show_progress_bar=True)\n",
    "\n",
    "    similarities = [util.cos_sim(emb_en[i], emb_te[i]).item() for i in range(len(paragraphs))]\n",
    "\n",
    "    recall_at_1 = 0\n",
    "    recall_at_5 = 0\n",
    "    for i in range(len(paragraphs)):\n",
    "        sims = util.cos_sim(emb_en[i], emb_te)[0]\n",
    "        topk = sims.argsort(descending=True)[:5]\n",
    "        if i in topk[:1]:\n",
    "            recall_at_1 += 1\n",
    "        if i in topk:\n",
    "            recall_at_5 += 1\n",
    "    recall_at_1 /= len(paragraphs)\n",
    "    recall_at_5 /= len(paragraphs)\n",
    "\n",
    "    print(f\"📊 Recall@1: {recall_at_1:.3f}\")\n",
    "    print(f\"📊 Recall@5: {recall_at_5:.3f}\")\n",
    "\n",
    "    # Visualize\n",
    "    plt.figure(figsize=(8, 5))\n",
    "    plt.hist(similarities, bins=20, alpha=0.7, color='steelblue')\n",
    "    plt.title(\"Translation Semantic Similarity Distribution (LaBSE)\")\n",
    "    plt.xlabel(\"Cosine Similarity\")\n",
    "    plt.ylabel(\"Paragraph Count\")\n",
    "    plt.axvline(0.85, color='green', linestyle='--', label='Good (≥0.85)')\n",
    "    plt.axvline(SIMILARITY_THRESHOLD, color='red', linestyle='--', label='Suspicious (<0.75)')\n",
    "    plt.legend()\n",
    "    plt.tight_layout()\n",
    "    plt.show()\n",
    "\n",
    "    # Save suspicious\n",
    "    with open(SUSPICIOUS_FILE, \"w\", encoding=\"utf-8\") as f:\n",
    "        for i, score in enumerate(similarities):\n",
    "            if score < SIMILARITY_THRESHOLD:\n",
    "                f.write(f\"=== Paragraph {i+1} ===\\n\")\n",
    "                f.write(f\"EN: {paragraphs[i]}\\n\")\n",
    "                f.write(f\"TE: {translations[i]}\\n\")\n",
    "                f.write(f\"Semantic Similarity: {score:.3f}\\n\\n\")\n",
    "\n",
    "    print(f\"⚠️ Suspicious translations saved to {SUSPICIOUS_FILE}\")\n"
   ]
  },
  {
   "cell_type": "code",
   "execution_count": null,
   "id": "6c1e5492-1596-4af1-a3c1-6fdbc3aec52c",
   "metadata": {},
   "outputs": [],
   "source": []
  },
  {
   "cell_type": "code",
   "execution_count": null,
   "id": "22b9defc-5a80-48e0-9ee6-599966d9dd06",
   "metadata": {},
   "outputs": [],
   "source": []
  }
 ],
 "metadata": {
  "kernelspec": {
   "display_name": "Python 3 (ipykernel)",
   "language": "python",
   "name": "python3"
  },
  "language_info": {
   "codemirror_mode": {
    "name": "ipython",
    "version": 3
   },
   "file_extension": ".py",
   "mimetype": "text/x-python",
   "name": "python",
   "nbconvert_exporter": "python",
   "pygments_lexer": "ipython3",
   "version": "3.13.5"
  }
 },
 "nbformat": 4,
 "nbformat_minor": 5
}
